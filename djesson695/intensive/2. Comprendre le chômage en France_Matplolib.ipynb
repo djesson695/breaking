{
 "cells": [
  {
   "cell_type": "markdown",
   "metadata": {
    "colab_type": "text",
    "id": "ZwEXvTBHQpTz"
   },
   "source": [
    "# Comprendre le chômage en France \n",
    "\n",
    "Vous êtes vous déjà demandé d'où sortaient les chiffres qu'annoncent les politiques ou les media lorsqu'ils parlent de chômage. Etant un sujet d'intérêt dans les pays occidents, tentons de comprendre ce qu'ils se passent en termes de chômages en France. Pour cela, nous avons récupéré des données sur [data.gouv](https://www.insee.fr/fr/statistiques/3555153#consulter). Elles représentent les données du chômage en France en 2017\n",
    "\n"
   ]
  },
  {
   "cell_type": "markdown",
   "metadata": {
    "colab_type": "text",
    "id": "0Y97GFc4QzSX"
   },
   "source": [
    "## Documentation du dataset \n",
    "\n",
    "Regarder la documentation du dataset [ici](https://www.insee.fr/fr/statistiques/3555153#documentation)"
   ]
  },
  {
   "cell_type": "markdown",
   "metadata": {
    "colab_type": "text",
    "id": "Ovsu2EqEcBO9"
   },
   "source": [
    "* Allez sur le lien suivant : [Dataset](https://www.insee.fr/fr/statistiques/3555153#consulter) et téléchargez le petit dataset de 9Mo. \n",
    "\n",
    "* En utilisant la commande `!unzip filename.zip` dézippez le fichier que vous avez téléchargé "
   ]
  },
  {
   "cell_type": "code",
   "execution_count": 6,
   "metadata": {
    "scrolled": true
   },
   "outputs": [
    {
     "name": "stdout",
     "output_type": "stream",
     "text": [
      "Archive:  fd_eec17_dbase.zip\n",
      "  inflating: fdeec17.dbf             \n",
      "  inflating: varlist.dbf             \n",
      "  inflating: varmod.dbf              \n"
     ]
    }
   ],
   "source": [
    "!unzip fd_eec17_dbase.zip"
   ]
  },
  {
   "cell_type": "markdown",
   "metadata": {
    "colab_type": "text",
    "id": "s77X1TKKcW3s"
   },
   "source": [
    "* Importez les librairies \n",
    "  * pandas \n",
    "  * numpy "
   ]
  },
  {
   "cell_type": "code",
   "execution_count": 7,
   "metadata": {
    "colab": {},
    "colab_type": "code",
    "id": "UVrfg-b9QkfB"
   },
   "outputs": [],
   "source": [
    "import pandas as pd \n",
    "import numpy as np"
   ]
  },
  {
   "cell_type": "markdown",
   "metadata": {
    "colab_type": "text",
    "id": "NWOuJ-zCcbcT"
   },
   "source": [
    "* Nous allons avoir besoin d'installer une librairie sur notre notebook pour pouvoir lire les fichiers. Utilisez la commande suivante : \n",
    "\n",
    "`!pip install simpledbf`"
   ]
  },
  {
   "cell_type": "code",
   "execution_count": 8,
   "metadata": {
    "colab": {
     "base_uri": "https://localhost:8080/",
     "height": 188
    },
    "colab_type": "code",
    "id": "elOxqN4eQ-MV",
    "outputId": "38a4d491-362a-4e7a-9e86-18b9aa574ff7"
   },
   "outputs": [
    {
     "name": "stdout",
     "output_type": "stream",
     "text": [
      "Collecting simpledbf\n",
      "  Downloading simpledbf-0.2.6.tar.gz (17 kB)\n",
      "  Preparing metadata (setup.py) ... \u001b[?25ldone\n",
      "\u001b[?25hBuilding wheels for collected packages: simpledbf\n",
      "  Building wheel for simpledbf (setup.py) ... \u001b[?25ldone\n",
      "\u001b[?25h  Created wheel for simpledbf: filename=simpledbf-0.2.6-py3-none-any.whl size=13785 sha256=ee893de2119a349935d1b6d8afd08c3d02cda2353ded1cb32c649219c892e9fa\n",
      "  Stored in directory: /home/djesson/.cache/pip/wheels/e5/41/13/ebdef29165b9309ec4e235dbff19eca8b6759125b0924ad430\n",
      "Successfully built simpledbf\n",
      "Installing collected packages: simpledbf\n",
      "Successfully installed simpledbf-0.2.6\n"
     ]
    }
   ],
   "source": [
    "!pip install simpledbf"
   ]
  },
  {
   "cell_type": "markdown",
   "metadata": {
    "colab_type": "text",
    "id": "b3PGutLIcnZQ"
   },
   "source": [
    "* Appliquez ensuite le code suivant : \n",
    "\n",
    "```\n",
    "from simpledbf import Dbf5\n",
    "dataset = Dbf5(\"fdeec17.dbf\").to_dataframe()\n",
    "dataset.head()\n",
    "```"
   ]
  },
  {
   "cell_type": "code",
   "execution_count": 9,
   "metadata": {
    "colab": {
     "base_uri": "https://localhost:8080/",
     "height": 244
    },
    "colab_type": "code",
    "id": "2gWkIascSXLy",
    "outputId": "d51afde2-695b-4fb1-9679-99bd8f88f840",
    "scrolled": true
   },
   "outputs": [
    {
     "name": "stdout",
     "output_type": "stream",
     "text": [
      "PyTables is not installed. No support for HDF output.\n",
      "SQLalchemy is not installed. No support for SQL output.\n"
     ]
    },
    {
     "data": {
      "text/html": [
       "<div>\n",
       "<style scoped>\n",
       "    .dataframe tbody tr th:only-of-type {\n",
       "        vertical-align: middle;\n",
       "    }\n",
       "\n",
       "    .dataframe tbody tr th {\n",
       "        vertical-align: top;\n",
       "    }\n",
       "\n",
       "    .dataframe thead th {\n",
       "        text-align: right;\n",
       "    }\n",
       "</style>\n",
       "<table border=\"1\" class=\"dataframe\">\n",
       "  <thead>\n",
       "    <tr style=\"text-align: right;\">\n",
       "      <th></th>\n",
       "      <th>ANNEE</th>\n",
       "      <th>TRIM</th>\n",
       "      <th>CATAU2010R</th>\n",
       "      <th>METRODOM</th>\n",
       "      <th>TYPMEN7</th>\n",
       "      <th>AGE3</th>\n",
       "      <th>AGE5</th>\n",
       "      <th>COURED</th>\n",
       "      <th>ENFRED</th>\n",
       "      <th>NFRRED</th>\n",
       "      <th>...</th>\n",
       "      <th>DIP11</th>\n",
       "      <th>CSTOTPRM</th>\n",
       "      <th>IDENTM</th>\n",
       "      <th>EXTRIAN</th>\n",
       "      <th>EMPNBH</th>\n",
       "      <th>HREC</th>\n",
       "      <th>HHCE</th>\n",
       "      <th>HPLUSA</th>\n",
       "      <th>JOURTR</th>\n",
       "      <th>NBTOTE</th>\n",
       "    </tr>\n",
       "  </thead>\n",
       "  <tbody>\n",
       "    <tr>\n",
       "      <th>0</th>\n",
       "      <td>2017</td>\n",
       "      <td>1</td>\n",
       "      <td>1</td>\n",
       "      <td>1</td>\n",
       "      <td>2</td>\n",
       "      <td>50</td>\n",
       "      <td>50</td>\n",
       "      <td>2</td>\n",
       "      <td>1</td>\n",
       "      <td>1</td>\n",
       "      <td>...</td>\n",
       "      <td>30</td>\n",
       "      <td>52</td>\n",
       "      <td>1</td>\n",
       "      <td>263.388752</td>\n",
       "      <td>37.0</td>\n",
       "      <td>NaN</td>\n",
       "      <td>37.0</td>\n",
       "      <td>NaN</td>\n",
       "      <td>5.0</td>\n",
       "      <td>NaN</td>\n",
       "    </tr>\n",
       "    <tr>\n",
       "      <th>1</th>\n",
       "      <td>2017</td>\n",
       "      <td>1</td>\n",
       "      <td>1</td>\n",
       "      <td>1</td>\n",
       "      <td>2</td>\n",
       "      <td>15</td>\n",
       "      <td>15</td>\n",
       "      <td>2</td>\n",
       "      <td>2</td>\n",
       "      <td>1</td>\n",
       "      <td>...</td>\n",
       "      <td>42</td>\n",
       "      <td>52</td>\n",
       "      <td>1</td>\n",
       "      <td>263.388752</td>\n",
       "      <td>32.0</td>\n",
       "      <td>NaN</td>\n",
       "      <td>32.0</td>\n",
       "      <td>NaN</td>\n",
       "      <td>4.0</td>\n",
       "      <td>NaN</td>\n",
       "    </tr>\n",
       "    <tr>\n",
       "      <th>2</th>\n",
       "      <td>2017</td>\n",
       "      <td>1</td>\n",
       "      <td>1</td>\n",
       "      <td>1</td>\n",
       "      <td>2</td>\n",
       "      <td>15</td>\n",
       "      <td>15</td>\n",
       "      <td>2</td>\n",
       "      <td>2</td>\n",
       "      <td>1</td>\n",
       "      <td>...</td>\n",
       "      <td>31</td>\n",
       "      <td>52</td>\n",
       "      <td>1</td>\n",
       "      <td>263.388752</td>\n",
       "      <td>38.0</td>\n",
       "      <td>NaN</td>\n",
       "      <td>38.0</td>\n",
       "      <td>NaN</td>\n",
       "      <td>5.0</td>\n",
       "      <td>NaN</td>\n",
       "    </tr>\n",
       "    <tr>\n",
       "      <th>3</th>\n",
       "      <td>2017</td>\n",
       "      <td>3</td>\n",
       "      <td>1</td>\n",
       "      <td>1</td>\n",
       "      <td>2</td>\n",
       "      <td>50</td>\n",
       "      <td>50</td>\n",
       "      <td>2</td>\n",
       "      <td>1</td>\n",
       "      <td>1</td>\n",
       "      <td>...</td>\n",
       "      <td>30</td>\n",
       "      <td>52</td>\n",
       "      <td>2</td>\n",
       "      <td>176.893923</td>\n",
       "      <td>37.0</td>\n",
       "      <td>NaN</td>\n",
       "      <td>37.0</td>\n",
       "      <td>NaN</td>\n",
       "      <td>5.0</td>\n",
       "      <td>NaN</td>\n",
       "    </tr>\n",
       "    <tr>\n",
       "      <th>4</th>\n",
       "      <td>2017</td>\n",
       "      <td>3</td>\n",
       "      <td>1</td>\n",
       "      <td>1</td>\n",
       "      <td>2</td>\n",
       "      <td>15</td>\n",
       "      <td>15</td>\n",
       "      <td>2</td>\n",
       "      <td>2</td>\n",
       "      <td>1</td>\n",
       "      <td>...</td>\n",
       "      <td>42</td>\n",
       "      <td>52</td>\n",
       "      <td>2</td>\n",
       "      <td>176.893923</td>\n",
       "      <td>40.0</td>\n",
       "      <td>NaN</td>\n",
       "      <td>32.0</td>\n",
       "      <td>NaN</td>\n",
       "      <td>4.0</td>\n",
       "      <td>NaN</td>\n",
       "    </tr>\n",
       "  </tbody>\n",
       "</table>\n",
       "<p>5 rows × 125 columns</p>\n",
       "</div>"
      ],
      "text/plain": [
       "  ANNEE TRIM CATAU2010R METRODOM TYPMEN7 AGE3 AGE5 COURED ENFRED NFRRED  ...  \\\n",
       "0  2017    1          1        1       2   50   50      2      1      1  ...   \n",
       "1  2017    1          1        1       2   15   15      2      2      1  ...   \n",
       "2  2017    1          1        1       2   15   15      2      2      1  ...   \n",
       "3  2017    3          1        1       2   50   50      2      1      1  ...   \n",
       "4  2017    3          1        1       2   15   15      2      2      1  ...   \n",
       "\n",
       "  DIP11 CSTOTPRM IDENTM     EXTRIAN EMPNBH HREC  HHCE HPLUSA JOURTR NBTOTE  \n",
       "0    30       52      1  263.388752   37.0  NaN  37.0    NaN    5.0    NaN  \n",
       "1    42       52      1  263.388752   32.0  NaN  32.0    NaN    4.0    NaN  \n",
       "2    31       52      1  263.388752   38.0  NaN  38.0    NaN    5.0    NaN  \n",
       "3    30       52      2  176.893923   37.0  NaN  37.0    NaN    5.0    NaN  \n",
       "4    42       52      2  176.893923   40.0  NaN  32.0    NaN    4.0    NaN  \n",
       "\n",
       "[5 rows x 125 columns]"
      ]
     },
     "execution_count": 9,
     "metadata": {},
     "output_type": "execute_result"
    }
   ],
   "source": [
    "from simpledbf import Dbf5\n",
    "dataset = Dbf5(\"fdeec17.dbf\").to_dataframe()\n",
    "dataset.head()"
   ]
  },
  {
   "cell_type": "markdown",
   "metadata": {
    "colab_type": "text",
    "id": "wAjJDo-0cxyM"
   },
   "source": [
    "* Importez `matplotlib`"
   ]
  },
  {
   "cell_type": "code",
   "execution_count": 13,
   "metadata": {
    "colab": {},
    "colab_type": "code",
    "id": "waDEF5_2U9bD"
   },
   "outputs": [],
   "source": [
    "import matplotlib.pyplot as plt"
   ]
  },
  {
   "cell_type": "markdown",
   "metadata": {
    "colab_type": "text",
    "id": "DhqXJDXCY49a"
   },
   "source": [
    "* En faisant un [pie-chart](https://matplotlib.org/3.1.1/api/_as_gen/matplotlib.pyplot.pie.html), montrez la part de chômeurs, d'inactifs et d'actifs occupés en France à partir de la variable ACTEU. Faites attention de faire apparaitre : \n",
    "\n",
    "  * Le pourcentage de chaque partie \n",
    "  * Une légende "
   ]
  },
  {
   "cell_type": "markdown",
   "metadata": {},
   "source": [
    "Pour cela nous allons renommer les catégories numériques afin d'avoir une légende plus parlante. Analyser la ligne de commande suivante et comprenez comment elle fonctionne."
   ]
  },
  {
   "cell_type": "code",
   "execution_count": 17,
   "metadata": {
    "colab": {},
    "colab_type": "code",
    "id": "4h1KGsteaRRO"
   },
   "outputs": [],
   "source": [
    "chomeurs = dataset.ACTEU.apply(lambda x: \n",
    "                               \"Actif Occupé\" if x==\"1\" \n",
    "                               else \"Chômeur\" if x == \"2\"\n",
    "                               else \"Inactif\" if x==\"3\" \n",
    "                               else \"NAN\")"
   ]
  },
  {
   "cell_type": "code",
   "execution_count": 19,
   "metadata": {
    "colab": {
     "base_uri": "https://localhost:8080/",
     "height": 101
    },
    "colab_type": "code",
    "id": "tZVEocaXZwVu",
    "outputId": "df63cf35-960b-4cfe-e915-573fc2236262"
   },
   "outputs": [
    {
     "data": {
      "image/png": "[encoded data removed]",
      "text/plain": [
       "<Figure size 800x800 with 1 Axes>"
      ]
     },
     "metadata": {},
     "output_type": "display_data"
    }
   ],
   "source": [
    "import matplotlib.pyplot as plt\n",
    "\n",
    "# Les données à afficher dans le pie chart\n",
    "sizes = [15, 30, 45, 10]\n",
    "labels = ['A', 'B', 'C', 'D']\n",
    "\n",
    "# Couleurs pour chaque section\n",
    "colors = ['gold', 'yellowgreen', 'lightcoral', 'lightskyblue']\n",
    "\n",
    "# nom pour chaques section\n",
    "names = ['pain', 'riz', ]\n",
    "\n",
    "# Création du pie chart\n",
    "plt.figure(figsize=(8, 8))  # Taille de la figure\n",
    "plt.pie(sizes, labels=labels, colors=colors, autopct='%1.1f%%', startangle=140)\n",
    "\n",
    "# Ajout d'un titre\n",
    "plt.title('Exemple de Pie Chart')\n",
    "\n",
    "# Affichage du pie chart\n",
    "plt.axis('equal')  # Assure que le pie chart est circulaire\n",
    "plt.show()\n"
   ]
  },
  {
   "cell_type": "code",
   "execution_count": 18,
   "metadata": {
    "colab": {},
    "colab_type": "code",
    "id": "6wqRy7AddQVe"
   },
   "outputs": [],
   "source": [
    "explode = (0.2,0.2,0.5,0.1)"
   ]
  },
  {
   "cell_type": "code",
   "execution_count": null,
   "metadata": {
    "colab": {
     "base_uri": "https://localhost:8080/",
     "height": 360
    },
    "colab_type": "code",
    "id": "IQYfutZAY3nA",
    "outputId": "7062a4d2-441f-4405-f64b-d35e458d4718"
   },
   "outputs": [],
   "source": []
  },
  {
   "cell_type": "markdown",
   "metadata": {
    "colab_type": "text",
    "id": "WymEmd73g2Wi"
   },
   "source": [
    "---> Le chiffre du chômage semble bas et, si on regarde l'explication des *inactifs*, celle-ci semble inclure beaucoup de monde (étudiants, personne ne cherchant pas d'emploi etc.)"
   ]
  },
  {
   "cell_type": "markdown",
   "metadata": {
    "colab_type": "text",
    "id": "mX9t8VnQhCu0"
   },
   "source": [
    "* Faites le même graphique sur la variable ACTEU6 qui est plus précise sur le type d'actifs   \n",
    "Renommer les valeurs numériques :   \n",
    "    1 : Actif Occupé  \n",
    "    3 : Chômeur PSERE  \n",
    "    4 : Autre Chômeur BIT  \n",
    "    5 : Etudiant, élève, stagiaire en formation  \n",
    "    6 : Autres inactifs (dont retraité)  \n",
    "    "
   ]
  },
  {
   "cell_type": "code",
   "execution_count": null,
   "metadata": {
    "colab": {},
    "colab_type": "code",
    "id": "2GvU42xLbQT0"
   },
   "outputs": [],
   "source": []
  },
  {
   "cell_type": "code",
   "execution_count": null,
   "metadata": {
    "colab": {
     "base_uri": "https://localhost:8080/",
     "height": 134
    },
    "colab_type": "code",
    "id": "2ndmQN-zjSzW",
    "outputId": "adc7479d-9eea-4648-8341-e8a9e6688980"
   },
   "outputs": [],
   "source": []
  },
  {
   "cell_type": "code",
   "execution_count": null,
   "metadata": {
    "colab": {
     "base_uri": "https://localhost:8080/",
     "height": 430
    },
    "colab_type": "code",
    "id": "lmFkR5EBh3gU",
    "outputId": "1b345720-74bd-46ad-e842-4fcc7b81c2c1"
   },
   "outputs": [],
   "source": []
  },
  {
   "cell_type": "markdown",
   "metadata": {},
   "source": [
    "Regardez la documentation pour renommer les valeurs de la colonne ACTEU."
   ]
  },
  {
   "cell_type": "code",
   "execution_count": null,
   "metadata": {
    "colab": {
     "base_uri": "https://localhost:8080/",
     "height": 101
    },
    "colab_type": "code",
    "id": "mfFcPreepD0Z",
    "outputId": "fabe98cd-01c8-437f-ae11-9dab90c19b87"
   },
   "outputs": [],
   "source": []
  },
  {
   "cell_type": "markdown",
   "metadata": {
    "colab_type": "text",
    "id": "EZOe0bmqm8bq"
   },
   "source": [
    "* En créant un [stacked bar chart](https://pythonmatplotlibtips.blogspot.com/2018/11/normalized-stacked-barplot-number-percentage-python-matplotlib.html), comparez :\n",
    "\n",
    "  * le rapport *chômeurs* / *Actifs occupés* \n",
    "  * Le rapport *chômeurs* / *Actifs occupés + Inactifs*"
   ]
  },
  {
   "cell_type": "code",
   "execution_count": null,
   "metadata": {
    "colab": {
     "base_uri": "https://localhost:8080/",
     "height": 50
    },
    "colab_type": "code",
    "id": "acS4ybNVpP69",
    "outputId": "84aacd6e-a8e5-47a0-e11c-28295996d3bb"
   },
   "outputs": [],
   "source": []
  },
  {
   "cell_type": "code",
   "execution_count": null,
   "metadata": {
    "colab": {
     "base_uri": "https://localhost:8080/",
     "height": 50
    },
    "colab_type": "code",
    "id": "vzJkrRXKuSFE",
    "outputId": "e8c6bff6-f34e-45e2-a918-1c548bf9c286"
   },
   "outputs": [],
   "source": []
  },
  {
   "cell_type": "code",
   "execution_count": 47,
   "metadata": {
    "colab": {
     "base_uri": "https://localhost:8080/",
     "height": 34
    },
    "colab_type": "code",
    "id": "QEuOlrL-rP-3",
    "outputId": "4c52b85b-fed3-432a-ff5a-390bd1e01fa7"
   },
   "outputs": [
    {
     "data": {
      "text/plain": [
       "['Chômeurs / Actifs Occupés', 'Chômeurs / Actifs + Inactifs']"
      ]
     },
     "execution_count": 47,
     "metadata": {},
     "output_type": "execute_result"
    }
   ],
   "source": []
  },
  {
   "cell_type": "code",
   "execution_count": 81,
   "metadata": {
    "colab": {
     "base_uri": "https://localhost:8080/",
     "height": 282
    },
    "colab_type": "code",
    "id": "HUs4NJTyh7Vo",
    "outputId": "001e9ec9-ade2-4f1b-e29e-39cc268b6c8b"
   },
   "outputs": [
    {
     "data": {
      "text/plain": [
       "<BarContainer object of 2 artists>"
      ]
     },
     "execution_count": 81,
     "metadata": {},
     "output_type": "execute_result"
    },
    {
     "data": {
      "image/png": "[encoded data removed]",
      "text/plain": [
       "<Figure size 432x288 with 1 Axes>"
      ]
     },
     "metadata": {},
     "output_type": "display_data"
    }
   ],
   "source": []
  },
  {
   "cell_type": "code",
   "execution_count": 84,
   "metadata": {},
   "outputs": [
    {
     "data": {
      "text/plain": [
       "<BarContainer object of 2 artists>"
      ]
     },
     "execution_count": 84,
     "metadata": {},
     "output_type": "execute_result"
    },
    {
     "data": {
      "image/png": "[encoded data removed]",
      "text/plain": [
       "<Figure size 432x288 with 1 Axes>"
      ]
     },
     "metadata": {},
     "output_type": "display_data"
    }
   ],
   "source": []
  },
  {
   "cell_type": "markdown",
   "metadata": {
    "colab_type": "text",
    "id": "rjhLdoc9v6PM"
   },
   "source": [
    "Il semblerait que nous étions 11% de chômeurs parmi la population active (travailleuse) en France en 2017 selon le BIT"
   ]
  },
  {
   "cell_type": "markdown",
   "metadata": {
    "colab_type": "text",
    "id": "imCCe_2byFzg"
   },
   "source": [
    "* En créant à nouveau un [*bar chart*](https://matplotlib.org/3.1.1/api/_as_gen/matplotlib.pyplot.bar.html) , regardez cette fois la répartition de l'ancienneté du chômage. Le nom de la variable est ANCCHOM, regardez la documentation pour recoder la valeur de cette colonne."
   ]
  },
  {
   "cell_type": "code",
   "execution_count": 60,
   "metadata": {
    "colab": {
     "base_uri": "https://localhost:8080/",
     "height": 185
    },
    "colab_type": "code",
    "id": "LRVh9ARMojIJ",
    "outputId": "ac7ff50a-b846-4dd4-eb52-4cb66fb4f6f6"
   },
   "outputs": [
    {
     "data": {
      "text/plain": [
       "NAN                                 406904\n",
       "3 ans ou plus                         3906\n",
       "De 6 mois à moins d'un an             3648\n",
       "De 1 an à moins d'un an et demi       3398\n",
       "De 1 mois à moins de 3 mois           3270\n",
       "De 3 mois à moins de 6 mois           3193\n",
       "De 2 ans à moins de 3 ans             2289\n",
       "De 1 an et demi à moins de 2 ans      1132\n",
       "Moins d'un mois                        902\n",
       "Name: ANCCHOM, dtype: int64"
      ]
     },
     "execution_count": 60,
     "metadata": {},
     "output_type": "execute_result"
    }
   ],
   "source": []
  },
  {
   "cell_type": "code",
   "execution_count": 61,
   "metadata": {
    "colab": {
     "base_uri": "https://localhost:8080/",
     "height": 360
    },
    "colab_type": "code",
    "id": "VBK072x20tcu",
    "outputId": "e528187c-bf18-44f9-f3c3-d60b735ea6ae"
   },
   "outputs": [
    {
     "data": {
      "text/plain": [
       "<BarContainer object of 8 artists>"
      ]
     },
     "execution_count": 61,
     "metadata": {},
     "output_type": "execute_result"
    },
    {
     "data": {
      "image/png": "[encoded data removed]",
      "text/plain": [
       "<Figure size 1800x360 with 1 Axes>"
      ]
     },
     "metadata": {},
     "output_type": "display_data"
    }
   ],
   "source": []
  },
  {
   "cell_type": "markdown",
   "metadata": {
    "colab_type": "text",
    "id": "SOZ0dz4k2tMY"
   },
   "source": [
    "* La répartition se voit assez mal sur le *bar chart*, tentez de le refaire sur un *pie chart* "
   ]
  },
  {
   "cell_type": "code",
   "execution_count": 64,
   "metadata": {
    "colab": {
     "base_uri": "https://localhost:8080/",
     "height": 442
    },
    "colab_type": "code",
    "id": "MA-ApYQu1CK5",
    "outputId": "870a31e2-e2ab-4963-a83a-9a1987450333"
   },
   "outputs": [
    {
     "data": {
      "text/plain": [
       "<matplotlib.legend.Legend at 0x1fe3e1ba438>"
      ]
     },
     "execution_count": 64,
     "metadata": {},
     "output_type": "execute_result"
    },
    {
     "data": {
      "image/png": "[encoded data removed]",
      "text/plain": [
       "<Figure size 720x360 with 1 Axes>"
      ]
     },
     "metadata": {},
     "output_type": "display_data"
    }
   ],
   "source": []
  },
  {
   "cell_type": "markdown",
   "metadata": {
    "colab_type": "text",
    "id": "8LIfy88y5cnO"
   },
   "source": [
    "* Il serait intéressant de voir la répartition des personnes inscrites à Pôle Emploi ou dans un organisme de placement parmi ces personnes au chômage. Regardez cette répartition grâce à la colonne CONTACT \n",
    "  * Enlevez directement les NaN de votre graphique"
   ]
  },
  {
   "cell_type": "code",
   "execution_count": 65,
   "metadata": {
    "colab": {
     "base_uri": "https://localhost:8080/",
     "height": 84
    },
    "colab_type": "code",
    "id": "Xviz1js24gOu",
    "outputId": "35944ab1-45f6-4066-d11b-aec3bdb9c5fb"
   },
   "outputs": [
    {
     "data": {
      "text/plain": [
       "NAN    399514\n",
       "Non     15984\n",
       "Oui     13144\n",
       "Name: CONTACT, dtype: int64"
      ]
     },
     "execution_count": 65,
     "metadata": {},
     "output_type": "execute_result"
    }
   ],
   "source": []
  },
  {
   "cell_type": "code",
   "execution_count": 66,
   "metadata": {
    "colab": {
     "base_uri": "https://localhost:8080/",
     "height": 281
    },
    "colab_type": "code",
    "id": "QfwY4DH26QCV",
    "outputId": "53449a02-0d28-47bd-fc0b-814ca207716a"
   },
   "outputs": [
    {
     "data": {
      "text/plain": [
       "Text(0.5,1,'Inscription dans un organisme de placement')"
      ]
     },
     "execution_count": 66,
     "metadata": {},
     "output_type": "execute_result"
    },
    {
     "data": {
      "image/png": "[encoded data removed]",
      "text/plain": [
       "<Figure size 432x288 with 1 Axes>"
      ]
     },
     "metadata": {},
     "output_type": "display_data"
    }
   ],
   "source": []
  },
  {
   "cell_type": "markdown",
   "metadata": {
    "colab_type": "text",
    "id": "SizUWI_f7pgw"
   },
   "source": [
    "* Regardons ce qui pousse les français à changer d'emploi, grâce à la colonne CREACCP, crééz un bar chart horizontale qui va permettre de connaitre les principales raisons de changement d'emploi des français. "
   ]
  },
  {
   "cell_type": "code",
   "execution_count": 95,
   "metadata": {
    "colab": {
     "base_uri": "https://localhost:8080/",
     "height": 272
    },
    "colab_type": "code",
    "id": "XtoXCk5r6jcD",
    "outputId": "855149ef-01f3-4f65-f99c-77ade8b43025"
   },
   "outputs": [
    {
     "data": {
      "text/plain": [
       "Doit ou veut déménager                                                                   216\n",
       "Veut s'installer à son compte                                                            354\n",
       "Désire diminuer son temps de transport                                                   598\n",
       "Désire un travail avec un rythme horaire plus adapté ou plus modulable                  1102\n",
       "Trouve l'ambiance de travail mauvaise, les relations de travail conflictuelles          1223\n",
       "Veut changer de métier ou de secteur                                                    1392\n",
       "Veut travailler plus d'heures                                                           1404\n",
       "Risque de perdre ou va perdre son emploi actuel (y compris fin de contrats courts)      1582\n",
       "Désire des conditions de travail moins pénibles ou plus adaptées à sa santé             1820\n",
       "Veut un emploi plus stable (CDI)                                                        2462\n",
       "Désire un emploi plus intéressant                                                       2779\n",
       "Désire augmenter ses revenus                                                            6775\n",
       "NAN                                                                                   406935\n",
       "Name: CREACCP, dtype: int64"
      ]
     },
     "execution_count": 95,
     "metadata": {},
     "output_type": "execute_result"
    }
   ],
   "source": []
  },
  {
   "cell_type": "code",
   "execution_count": 94,
   "metadata": {
    "colab": {
     "base_uri": "https://localhost:8080/"
    },
    "colab_type": "code",
    "id": "lC71A0zC890B",
    "outputId": "24046306-44c2-4dd1-fa10-7a3350d5cfc4"
   },
   "outputs": [
    {
     "data": {
      "text/plain": [
       "21707"
      ]
     },
     "execution_count": 94,
     "metadata": {},
     "output_type": "execute_result"
    }
   ],
   "source": []
  },
  {
   "cell_type": "code",
   "execution_count": 93,
   "metadata": {
    "colab": {
     "base_uri": "https://localhost:8080/",
     "height": 34
    },
    "colab_type": "code",
    "id": "fMlBDKUr-m-W",
    "outputId": "2ade27f7-5a0f-4b57-8c9d-c152cf54a27c"
   },
   "outputs": [
    {
     "data": {
      "text/plain": [
       "[1.0, 1.63, 2.75, 5.08, 5.63, 6.41, 6.47, 7.29, 8.38, 11.34, 12.8, 31.21]"
      ]
     },
     "execution_count": 93,
     "metadata": {},
     "output_type": "execute_result"
    }
   ],
   "source": []
  },
  {
   "cell_type": "code",
   "execution_count": 96,
   "metadata": {
    "colab": {
     "base_uri": "https://localhost:8080/",
     "height": 316
    },
    "colab_type": "code",
    "id": "I3j4qraB-9GU",
    "outputId": "8bfd741f-fe00-465b-df6c-2b6b5ea15512"
   },
   "outputs": [
    {
     "data": {
      "image/png": "[encoded data removed]",
      "text/plain": [
       "<Figure size 432x288 with 1 Axes>"
      ]
     },
     "metadata": {},
     "output_type": "display_data"
    }
   ],
   "source": []
  }
 ],
 "metadata": {
  "colab": {
   "collapsed_sections": [],
   "name": "Comprendre le chômage en France - Exercice.ipynb",
   "provenance": [],
   "version": "0.3.2"
  },
  "kernelspec": {
   "display_name": "Python 3 (ipykernel)",
   "language": "python",
   "name": "python3"
  },
  "language_info": {
   "codemirror_mode": {
    "name": "ipython",
    "version": 3
   },
   "file_extension": ".py",
   "mimetype": "text/x-python",
   "name": "python",
   "nbconvert_exporter": "python",
   "pygments_lexer": "ipython3",
   "version": "3.10.6"
  },
  "toc": {
   "base_numbering": 1,
   "nav_menu": {},
   "number_sections": true,
   "sideBar": true,
   "skip_h1_title": false,
   "title_cell": "Table of Contents",
   "title_sidebar": "Contents",
   "toc_cell": false,
   "toc_position": {},
   "toc_section_display": true,
   "toc_window_display": false
  }
 },
 "nbformat": 4,
 "nbformat_minor": 1
}
